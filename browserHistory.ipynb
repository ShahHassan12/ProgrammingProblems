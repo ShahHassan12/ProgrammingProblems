{
 "cells": [
  {
   "cell_type": "code",
   "execution_count": null,
   "metadata": {},
   "outputs": [],
   "source": [
    "class webPage(object):\n",
    "\n",
    "    def __init__(self, url, next = None, back = None) -> None:\n",
    "        \"\"\"\n",
    "        :type url:str\n",
    "        :rtype: None    \n",
    "        \"\"\"\n",
    "\n",
    "        self.url = url\n",
    "        self.next = next\n",
    "        self.back = back\n",
    "\n",
    "class BrowserHistory(object):\n",
    "\n",
    "    def __init__(self, homepage) -> None:\n",
    "        \"\"\"\n",
    "        \n",
    "        :type homepage: str\n",
    "        \"\"\"\n",
    "        self.homepage = webPage(homepage)\n",
    "        self.currentPage = self.homepage\n",
    "\n",
    "    \n",
    "    def visit(self, url):\n",
    "        \"\"\" \n",
    "        \n",
    "        :type url: str\n",
    "        :rtype: None\n",
    "        \"\"\"\n",
    "        newPage = webPage(url)\n",
    "        self.currentPage.next = newPage\n",
    "        newPage.back = self.currentPage\n",
    "        self.currentPage = newPage\n",
    "        \n",
    "        \n",
    "\n",
    "    def back(self, steps):\n",
    "        \"\"\"\n",
    "        \n",
    "        :type url: str\n",
    "        :rtype: None\n",
    "        \"\"\"\n",
    "        if self.currentPage == self.homepage:\n",
    "            return self.homepage\n",
    "\n",
    "        else:\n",
    "            i = 0\n",
    "\n",
    "            while self.currentPage:                \n",
    "\n",
    "                if i == steps:\n",
    "                    return self.currentPage.url\n",
    "\n",
    "                i += 1\n",
    "                self.currentPage = self.currentPage.back\n",
    "            \n",
    "            return self.currentPage.url\n",
    "            \n",
    "\n",
    "    def forward(self, steps):\n",
    "        \"\"\"\n",
    "        :type steps: int\n",
    "        :rtype: str\n",
    "        \"\"\"\n",
    "        i = 0\n",
    "        while self.currentPage.next:\n",
    "\n",
    "            if i == steps:\n",
    "                return self.currentPage.url\n",
    "            \n",
    "            self.currentPage = self.currentPage.next\n",
    "            i += 1\n",
    "            \n",
    "        return self.currentPage.url\n",
    "            \n",
    "\n",
    "\n",
    "\n",
    "\n",
    "\n"
   ]
  },
  {
   "cell_type": "code",
   "execution_count": 3,
   "metadata": {},
   "outputs": [],
   "source": [
    "bh = BrowserHistory('leetcode.com')"
   ]
  },
  {
   "cell_type": "code",
   "execution_count": 8,
   "metadata": {},
   "outputs": [
    {
     "data": {
      "text/plain": [
       "'leetcode.com'"
      ]
     },
     "execution_count": 8,
     "metadata": {},
     "output_type": "execute_result"
    }
   ],
   "source": [
    "bh.homepage.url"
   ]
  },
  {
   "cell_type": "code",
   "execution_count": 7,
   "metadata": {},
   "outputs": [],
   "source": [
    "bh.visit('google.com')"
   ]
  },
  {
   "cell_type": "code",
   "execution_count": 9,
   "metadata": {},
   "outputs": [
    {
     "data": {
      "text/plain": [
       "'leetcode.com'"
      ]
     },
     "execution_count": 9,
     "metadata": {},
     "output_type": "execute_result"
    }
   ],
   "source": [
    "bh.back(1)"
   ]
  },
  {
   "cell_type": "code",
   "execution_count": 10,
   "metadata": {},
   "outputs": [
    {
     "data": {
      "text/plain": [
       "'google.com'"
      ]
     },
     "execution_count": 10,
     "metadata": {},
     "output_type": "execute_result"
    }
   ],
   "source": [
    "bh.forward(1)"
   ]
  },
  {
   "cell_type": "code",
   "execution_count": 11,
   "metadata": {},
   "outputs": [
    {
     "data": {
      "text/plain": [
       "'google.com'"
      ]
     },
     "execution_count": 11,
     "metadata": {},
     "output_type": "execute_result"
    }
   ],
   "source": [
    "bh.forward(2)"
   ]
  },
  {
   "cell_type": "code",
   "execution_count": 12,
   "metadata": {},
   "outputs": [
    {
     "ename": "AttributeError",
     "evalue": "'NoneType' object has no attribute 'url'",
     "output_type": "error",
     "traceback": [
      "\u001b[31m---------------------------------------------------------------------------\u001b[39m",
      "\u001b[31mAttributeError\u001b[39m                            Traceback (most recent call last)",
      "\u001b[36mCell\u001b[39m\u001b[36m \u001b[39m\u001b[32mIn[12]\u001b[39m\u001b[32m, line 1\u001b[39m\n\u001b[32m----> \u001b[39m\u001b[32m1\u001b[39m \u001b[43mbh\u001b[49m\u001b[43m.\u001b[49m\u001b[43mback\u001b[49m\u001b[43m(\u001b[49m\u001b[32;43m2\u001b[39;49m\u001b[43m)\u001b[49m\n",
      "\u001b[36mCell\u001b[39m\u001b[36m \u001b[39m\u001b[32mIn[2]\u001b[39m\u001b[32m, line 53\u001b[39m, in \u001b[36mBrowserHistory.back\u001b[39m\u001b[34m(self, steps)\u001b[39m\n\u001b[32m     50\u001b[39m     \u001b[38;5;28mself\u001b[39m.currentPage = \u001b[38;5;28mself\u001b[39m.currentPage.back\n\u001b[32m     51\u001b[39m     i -= \u001b[32m1\u001b[39m\n\u001b[32m---> \u001b[39m\u001b[32m53\u001b[39m \u001b[38;5;28;01mreturn\u001b[39;00m \u001b[38;5;28;43mself\u001b[39;49m\u001b[43m.\u001b[49m\u001b[43mcurrentPage\u001b[49m\u001b[43m.\u001b[49m\u001b[43murl\u001b[49m\n",
      "\u001b[31mAttributeError\u001b[39m: 'NoneType' object has no attribute 'url'"
     ]
    }
   ],
   "source": [
    "bh.back(2)"
   ]
  },
  {
   "cell_type": "code",
   "execution_count": null,
   "metadata": {},
   "outputs": [],
   "source": []
  }
 ],
 "metadata": {
  "kernelspec": {
   "display_name": "ncode_env",
   "language": "python",
   "name": "python3"
  },
  "language_info": {
   "codemirror_mode": {
    "name": "ipython",
    "version": 3
   },
   "file_extension": ".py",
   "mimetype": "text/x-python",
   "name": "python",
   "nbconvert_exporter": "python",
   "pygments_lexer": "ipython3",
   "version": "3.11.5"
  }
 },
 "nbformat": 4,
 "nbformat_minor": 2
}
