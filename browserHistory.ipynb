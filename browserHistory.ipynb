{
 "cells": [
  {
   "cell_type": "code",
   "execution_count": null,
   "metadata": {},
   "outputs": [],
   "source": [
    "#Initial Solution\n",
    "class webPage(object):\n",
    "\n",
    "    def __init__(self, url, next = None, back = None):\n",
    "        \"\"\"\n",
    "        :type url:str\n",
    "        :rtype: None    \n",
    "        \"\"\"\n",
    "\n",
    "        self.url = url\n",
    "        self.next = next\n",
    "        self.back = back\n",
    "\n",
    "class BrowserHistory(object):\n",
    "\n",
    "    def __init__(self, homepage):\n",
    "        \"\"\"\n",
    "        \n",
    "        :type homepage: str\n",
    "        \"\"\"\n",
    "        self.homepage = webPage(homepage)\n",
    "        self.currentPage = self.homepage\n",
    "\n",
    "    \n",
    "    def visit(self, url):\n",
    "        \"\"\" \n",
    "        \n",
    "        :type url: str\n",
    "        :rtype: None\n",
    "        \"\"\"\n",
    "        newPage = webPage(url)\n",
    "        self.currentPage.next = newPage\n",
    "        newPage.back = self.currentPage\n",
    "        self.currentPage = newPage\n",
    "        \n",
    "        \n",
    "\n",
    "    def back(self, steps):\n",
    "        \"\"\"\n",
    "        \n",
    "        :type url: str\n",
    "        :rtype: None\n",
    "        \"\"\"\n",
    "        if self.currentPage == self.homepage:\n",
    "            return self.homepage.url\n",
    "\n",
    "        else:\n",
    "            i = 0\n",
    "\n",
    "            while self.currentPage.back:                \n",
    "\n",
    "                if i == steps:\n",
    "                    return self.currentPage.url\n",
    "\n",
    "                i += 1\n",
    "                self.currentPage = self.currentPage.back\n",
    "            \n",
    "            return self.currentPage.url\n",
    "            \n",
    "\n",
    "    def forward(self, steps):\n",
    "        \"\"\"\n",
    "        :type steps: int\n",
    "        :rtype: str\n",
    "        \"\"\"\n",
    "        i = 0\n",
    "        while self.currentPage.next:\n",
    "\n",
    "            if i == steps:\n",
    "                return self.currentPage.url\n",
    "            \n",
    "            self.currentPage = self.currentPage.next\n",
    "            i += 1\n",
    "            \n",
    "        return self.currentPage.url\n",
    "            \n",
    "\n",
    "\n",
    "\n",
    "\n",
    "\n"
   ]
  },
  {
   "cell_type": "markdown",
   "metadata": {},
   "source": [
    "Enhanced Solution (Saving time and memory)"
   ]
  },
  {
   "cell_type": "code",
   "execution_count": 93,
   "metadata": {},
   "outputs": [],
   "source": [
    "#Enhanced Solution (Saving time and memory)\n",
    "class webPage(object):\n",
    "\n",
    "    def __init__(self, url, next = None, back = None):\n",
    "        \"\"\"\n",
    "        :type url:str\n",
    "        :rtype: None    \n",
    "        \"\"\"\n",
    "\n",
    "        self.url = url\n",
    "        self.next = next\n",
    "        self.back = back\n",
    "\n",
    "class BrowserHistory(object):\n",
    "\n",
    "    def __init__(self, homepage):\n",
    "        \"\"\"\n",
    "        \n",
    "        :type homepage: str\n",
    "        \"\"\"\n",
    "        self.homepage = webPage(homepage)\n",
    "        self.currentPage = self.homepage\n",
    "\n",
    "    \n",
    "    def visit(self, url):\n",
    "        \"\"\" \n",
    "        \n",
    "        :type url: str\n",
    "        :rtype: None\n",
    "        \"\"\"\n",
    "        newPage = webPage(url)\n",
    "        self.currentPage.next = newPage\n",
    "        newPage.back = self.currentPage\n",
    "        del self.currentPage\n",
    "        self.currentPage = newPage\n",
    "        \n",
    "        \n",
    "\n",
    "    def back(self, steps):\n",
    "        \"\"\"\n",
    "        \n",
    "        :type url: str\n",
    "        :rtype: None\n",
    "        \"\"\"\n",
    "        if self.currentPage == self.homepage:\n",
    "            return self.homepage.url\n",
    "\n",
    "        else:\n",
    "            \n",
    "\n",
    "            while self.currentPage.back:                \n",
    "\n",
    "                if steps == 0:\n",
    "                    return self.currentPage.url\n",
    "\n",
    "                steps -= 1 \n",
    "                self.currentPage = self.currentPage.back\n",
    "            \n",
    "            return self.currentPage.url\n",
    "            \n",
    "\n",
    "    def forward(self, steps):\n",
    "        \"\"\"\n",
    "        :type steps: int\n",
    "        :rtype: str\n",
    "        \"\"\"\n",
    "        while self.currentPage.next:\n",
    "\n",
    "            if steps == 0:\n",
    "                return self.currentPage.url\n",
    "            \n",
    "            self.currentPage = self.currentPage.next\n",
    "            steps -= 1\n",
    "            \n",
    "        return self.currentPage.url\n",
    "            "
   ]
  },
  {
   "cell_type": "code",
   "execution_count": 94,
   "metadata": {},
   "outputs": [],
   "source": [
    "bh = BrowserHistory('leetcode.com')"
   ]
  },
  {
   "cell_type": "code",
   "execution_count": 95,
   "metadata": {},
   "outputs": [],
   "source": [
    "bh.visit('google.com')"
   ]
  },
  {
   "cell_type": "code",
   "execution_count": 96,
   "metadata": {},
   "outputs": [],
   "source": [
    "bh.visit('facebook.com')"
   ]
  },
  {
   "cell_type": "code",
   "execution_count": 97,
   "metadata": {},
   "outputs": [],
   "source": [
    "bh.visit('youtube.com')"
   ]
  },
  {
   "cell_type": "code",
   "execution_count": 98,
   "metadata": {},
   "outputs": [
    {
     "data": {
      "text/plain": [
       "'facebook.com'"
      ]
     },
     "execution_count": 98,
     "metadata": {},
     "output_type": "execute_result"
    }
   ],
   "source": [
    "bh.back(1)"
   ]
  },
  {
   "cell_type": "code",
   "execution_count": 99,
   "metadata": {},
   "outputs": [
    {
     "data": {
      "text/plain": [
       "'youtube.com'"
      ]
     },
     "execution_count": 99,
     "metadata": {},
     "output_type": "execute_result"
    }
   ],
   "source": [
    "bh.forward(1)"
   ]
  },
  {
   "cell_type": "code",
   "execution_count": 100,
   "metadata": {},
   "outputs": [],
   "source": [
    "bh.visit('linkedin.com')"
   ]
  },
  {
   "cell_type": "code",
   "execution_count": 101,
   "metadata": {},
   "outputs": [
    {
     "data": {
      "text/plain": [
       "'linkedin.com'"
      ]
     },
     "execution_count": 101,
     "metadata": {},
     "output_type": "execute_result"
    }
   ],
   "source": [
    "bh.forward(2)"
   ]
  },
  {
   "cell_type": "code",
   "execution_count": 102,
   "metadata": {},
   "outputs": [
    {
     "data": {
      "text/plain": [
       "'facebook.com'"
      ]
     },
     "execution_count": 102,
     "metadata": {},
     "output_type": "execute_result"
    }
   ],
   "source": [
    "bh.back(2)"
   ]
  },
  {
   "cell_type": "code",
   "execution_count": 103,
   "metadata": {},
   "outputs": [
    {
     "data": {
      "text/plain": [
       "'leetcode.com'"
      ]
     },
     "execution_count": 103,
     "metadata": {},
     "output_type": "execute_result"
    }
   ],
   "source": [
    "bh.back(7)"
   ]
  },
  {
   "cell_type": "code",
   "execution_count": null,
   "metadata": {},
   "outputs": [],
   "source": []
  }
 ],
 "metadata": {
  "kernelspec": {
   "display_name": "ncode_env",
   "language": "python",
   "name": "python3"
  },
  "language_info": {
   "codemirror_mode": {
    "name": "ipython",
    "version": 3
   },
   "file_extension": ".py",
   "mimetype": "text/x-python",
   "name": "python",
   "nbconvert_exporter": "python",
   "pygments_lexer": "ipython3",
   "version": "3.11.5"
  }
 },
 "nbformat": 4,
 "nbformat_minor": 2
}
