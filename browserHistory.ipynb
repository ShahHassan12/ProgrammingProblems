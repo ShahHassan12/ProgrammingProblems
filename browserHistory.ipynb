{
 "cells": [
  {
   "cell_type": "code",
   "execution_count": null,
   "metadata": {},
   "outputs": [],
   "source": [
    "class webPage(object):\n",
    "\n",
    "    def __init__(self, url, next = None, back = None) -> None:\n",
    "        \"\"\"\n",
    "        :type url:str\n",
    "        :rtype: None    \n",
    "        \"\"\"\n",
    "\n",
    "        self.url = url\n",
    "        self.next = next\n",
    "        self.back = back\n",
    "\n",
    "class BrowserHistory(object):\n",
    "\n",
    "    def __init__(self, homepage) -> None:\n",
    "        \"\"\"\n",
    "        \n",
    "        :type homepage: str\n",
    "        \"\"\"\n",
    "        self.homepage = webPage(homepage)\n",
    "        self.currentPage = self.homepage\n",
    "\n",
    "    \n",
    "    def visit(self, url):\n",
    "        \"\"\" \n",
    "        \n",
    "        :type url: str\n",
    "        :rtype: None\n",
    "        \"\"\"\n",
    "        newPage = webPage(url)\n",
    "        self.currentPage.next = webPage(url)\n",
    "        \n",
    "        \n",
    "\n",
    "    def back(self, steps):\n",
    "\n",
    "\n",
    "\n"
   ]
  }
 ],
 "metadata": {
  "kernelspec": {
   "display_name": "ncode_env",
   "language": "python",
   "name": "python3"
  },
  "language_info": {
   "name": "python",
   "version": "3.11.5"
  }
 },
 "nbformat": 4,
 "nbformat_minor": 2
}
